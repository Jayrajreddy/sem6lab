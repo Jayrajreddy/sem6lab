{
 "cells": [
  {
   "cell_type": "code",
   "execution_count": 1,
   "id": "63c13874",
   "metadata": {},
   "outputs": [
    {
     "name": "stdout",
     "output_type": "stream",
     "text": [
      "Enter the first number: 5\n",
      "Enter the second number: 10\n",
      "Sum =  15\n",
      "Product =  50\n",
      "Divisor =  0.5\n"
     ]
    }
   ],
   "source": [
    "# EXP 1(d): Basic Programming Examples - Import Functions as Modules\n",
    "\n",
    "# Aim: To create a python program to import functions as modules\n",
    "\n",
    "# Algorithm: \n",
    "# Step 1: Start\n",
    "# Step 2: Create example module script files\n",
    "# Step 3: Define relevant functions\n",
    "# Step 4: Create main script files\n",
    "# Step 5: Declare necessary variables\n",
    "# Step 6: Import example module file\n",
    "# Step 7: Print the output\n",
    "# Step 8: Stop\n",
    "\n",
    "# Program\n",
    "def summation(a, b):\n",
    "    return a + b\n",
    "def multiplication(a, b):\n",
    "    return a * b\n",
    "def division(a, b):\n",
    "    return a / b\n",
    "a = int(input(\"Enter the first number: \"))\n",
    "b = int(input(\"Enter the second number: \"))\n",
    "print(\"Sum = \", summation(a, b))\n",
    "print(\"Product = \", multiplication(a, b))\n",
    "print(\"Divisor = \", division(a, b))"
   ]
  }
 ],
 "metadata": {
  "kernelspec": {
   "display_name": "Python 3 (ipykernel)",
   "language": "python",
   "name": "python3"
  },
  "language_info": {
   "codemirror_mode": {
    "name": "ipython",
    "version": 3
   },
   "file_extension": ".py",
   "mimetype": "text/x-python",
   "name": "python",
   "nbconvert_exporter": "python",
   "pygments_lexer": "ipython3",
   "version": "3.10.7"
  }
 },
 "nbformat": 4,
 "nbformat_minor": 5
}
