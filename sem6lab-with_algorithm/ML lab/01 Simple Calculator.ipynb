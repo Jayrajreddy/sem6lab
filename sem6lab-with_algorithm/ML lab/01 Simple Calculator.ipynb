{
 "cells": [
  {
   "cell_type": "code",
   "execution_count": 1,
   "id": "bcfe5cce",
   "metadata": {},
   "outputs": [
    {
     "name": "stdout",
     "output_type": "stream",
     "text": [
      "Operation: +, -, *, /\n",
      "Select operations: +\n",
      "Enter first number: 20\n",
      "Enter second number: 30\n",
      "20.0 + 30.0 = 50.0\n"
     ]
    }
   ],
   "source": [
    "# EXP 1(a): Basic Programming Examples - Simple Calculator\n",
    "\n",
    "# Aim: To create a python program for a simple calculator without using library functions\n",
    "\n",
    "# Algorithm: \n",
    "# Step 1: Get input from the user (choice corresponding to various operations like addition, subtraction, multiplication, division)\n",
    "# Step 2: Get 2 integer inputs from the user\n",
    "# Step 3: Perform the operations based on the user's choice\n",
    "# Step 4: Print the output\n",
    "# Step 5: Stop\n",
    "\n",
    "# Program\n",
    "print(\"Operation: +, -, *, /\")\n",
    "select = input(\"Select operations: \")\n",
    "\n",
    "num1 = float(input(\"Enter first number: \"))\n",
    "num2 = float(input(\"Enter second number: \"))\n",
    "\n",
    "if select == \"+\":\n",
    "    print(num1, \"+\", num2, \"=\", num1 + num2)\n",
    "elif select == \"-\":\n",
    "    print(num1, \"-\", num2, \"=\", num1 - num2)\n",
    "elif select == \"*\":\n",
    "    print(num1, \"*\", num2, \"=\", num1 * num2)\n",
    "elif select == \"/\":\n",
    "    print(num1, \"/\", num2, \"=\", num1 / num2)\n",
    "else:\n",
    "    print(\"INVALID INPUT\")"
   ]
  }
 ],
 "metadata": {
  "kernelspec": {
   "display_name": "Python 3 (ipykernel)",
   "language": "python",
   "name": "python3"
  },
  "language_info": {
   "codemirror_mode": {
    "name": "ipython",
    "version": 3
   },
   "file_extension": ".py",
   "mimetype": "text/x-python",
   "name": "python",
   "nbconvert_exporter": "python",
   "pygments_lexer": "ipython3",
   "version": "3.10.7"
  }
 },
 "nbformat": 4,
 "nbformat_minor": 5
}
