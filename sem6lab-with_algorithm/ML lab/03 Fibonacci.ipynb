{
 "cells": [
  {
   "cell_type": "code",
   "execution_count": 1,
   "id": "062ba2f4",
   "metadata": {},
   "outputs": [
    {
     "name": "stdout",
     "output_type": "stream",
     "text": [
      "How many terms? 5\n",
      "Fibonacci sequence:\n",
      "0\n",
      "1\n",
      "1\n",
      "2\n",
      "3\n"
     ]
    }
   ],
   "source": [
    "# EXP 1(c): Basic Programming Examples - Fibonacci Series\n",
    "\n",
    "# Aim: To create a python program to generate Fibonacci series\n",
    "\n",
    "# Algorithm: \n",
    "# Step 1: Input the 'n' value until the Fibonacci series has been generated\n",
    "# Step 2: Initialize sum = 0, a = 0, b = 1 and count = 1\n",
    "# Step 3: while (count <= n), print sum\n",
    "# Step 4: Increment the count variable\n",
    "# Step 5: Swap a & b\n",
    "# Step 6: sum = a + b\n",
    "# Step 7: while(count > n), end algorithm\n",
    "# Step 8: Else, repeat from steps 3 to 6\n",
    "# Step 9: Stop\n",
    "\n",
    "# Program\n",
    "nterms = int(input(\"How many terms? \"))\n",
    "n1, n2 = 0, 1\n",
    "count = 0\n",
    "if nterms <= 0:\n",
    "    print(\"Please enter a positive integer\")\n",
    "else:\n",
    "    print(\"Fibonacci sequence:\")\n",
    "    while count < nterms:\n",
    "        print(n1)\n",
    "        nth = n1 + n2\n",
    "        n1 = n2\n",
    "        n2 = nth\n",
    "        count += 1"
   ]
  }
 ],
 "metadata": {
  "kernelspec": {
   "display_name": "Python 3 (ipykernel)",
   "language": "python",
   "name": "python3"
  },
  "language_info": {
   "codemirror_mode": {
    "name": "ipython",
    "version": 3
   },
   "file_extension": ".py",
   "mimetype": "text/x-python",
   "name": "python",
   "nbconvert_exporter": "python",
   "pygments_lexer": "ipython3",
   "version": "3.10.7"
  }
 },
 "nbformat": 4,
 "nbformat_minor": 5
}
